{
 "cells": [
  {
   "cell_type": "markdown",
   "id": "9cd0084f",
   "metadata": {},
   "source": [
    "The explanations and what I will apply is from and after reading ***A neural probabilistic language model paper*** *(Bengio, Y., et al, 2003)*"
   ]
  },
  {
   "cell_type": "markdown",
   "id": "cc880eec",
   "metadata": {},
   "source": [
    "So we learned about n-grams language models, and how we can predict the next word given the $n$ previous words. And we implemented a **very simple** bigram model.  \n",
    "Now, my next step was to understand word embeddings is how n-grams and statistical language modeling translated into neural networks and deep learning."
   ]
  },
  {
   "cell_type": "markdown",
   "id": "fcbc566e",
   "metadata": {},
   "source": [
    "So in *(Bengio, Y., et al, 2003)*, the motivations they had is that it's difficult to model the joint probablity distribution of multiple consecutive words (random variables with **discrete** values.) An example would be having a sentence of 10 words where each one could have any value of a vocabulary of $100000$ words, so you have about $100000^{10}$ different possibilities or as they say \"free parameters\" for that sentence.\n",
    "\n",
    "They also explained that modeling continuous variables is easier for generalization because the approximation function we want to learn is expected to **have** some smooth properties (neural networks would be a good example.) So the continuous space has a smoother space unlike discrete spaces where are more, idk, **discrete?** And they explain more about discrete spaces:  \n",
    "***\"For discrete spaces, the generalization structure is not as obvious: any change of these discrete variables may have a drastic impact on the value of the function to be estimated, and when the number of values that each discrete variable can take is large, most observed objects are almost maximally far from each other in hamming distance.\"***"
   ]
  },
  {
   "cell_type": "markdown",
   "id": "e064b2b0",
   "metadata": {},
   "source": [
    "**<u>Disclaimer:</u>**  \n",
    "We are now going into the approach proposed and the mathematics and the design of it. Since I myself am trying to learn here, I won't be following the paper exactly here, meaning that I could:  \n",
    "1.  Add a little bit more mathematics to give you and myself a better idea of what's happening.  \n",
    "2.  Branch quickly in what I am writing to explain some other concepts that will help us understand what we have here better, which might be trivial to you depending on your level and knowledge so you can skip. But it won't be long anyway, this isn't an article (yet!)  "
   ]
  },
  {
   "cell_type": "markdown",
   "id": "cef7199b",
   "metadata": {},
   "source": [
    "So previously, we learned that you can predict the next word $w_t$ given all previous ones:  \n",
    "    $$P(w_t | w_{1:t-1}) \\tag{1}$$  \n",
    "    \n",
    "But in n-grams, we wanted to approximate $(1)$ by using just the $n$ words before $w_t$ as follows:  \n",
    "    $$P(w_t | w_{t-n+1:t-1}) \\approx P(w_t | w_{1:t-1}) \\tag{2}$$\n",
    "\n",
    "Remember the joint probability equation, assuming there's a dependance between variables $x$, $y$, and $z$ (which in our case are words):\n",
    "    $$P(x \\cap y \\cap z) = P(x, y, z) = P(z) P(y | z) P(x | z, y) \\tag{3}$$\n",
    "Which can be generalized to:\n",
    "    $$P(x_i, x_{i-1}...x_{1}) = \\prod_{k = 1}^n{P(x_k | x_1, x_2...x_{k-1})} \\tag{4}$$\n",
    "\n",
    "And now that we can approximate the probability of $w_t$, we can get the joint probability of a sentence or a sequence of words $W$ of length $T$:  \n",
    "\n",
    "$$P(w_t w_{t-1}...w_1) = \\prod_{k=1}^T{P(w_k | w_{k-n+1:k-1})} \\tag{5}$$\n",
    "\n",
    "This is the function we would want to maximize.\n",
    "\n",
    "Side note for the joint probability in $(3)$: if we assumed there's no dependance between $x$, $y$, and $z$, we have:\n",
    "    $$P(x, y, z) = P(x) P(y) P(z) \\tag{6}$$"
   ]
  },
  {
   "cell_type": "markdown",
   "id": "db3fe590",
   "metadata": {},
   "source": [
    "We are now want to use neural network to find a good function $f$ that approximates this joint probability distribution for a specific corpus. $f$ would have a set of trainable parameters $\\Theta$.  \n",
    "Now from above and $(2)$:  \n",
    "$$P(w_t | w_{t-n+1:t-1}) \\approx P(w_t | w_{1:t-1}) \\newline\n",
    "\\approx f(w_t, w_{t-1}...w_{t-n+1};\\Theta) \\tag{7}$$\n",
    "\n",
    "You can notice that $f$ uses $w_t$ and the n previous words $(w_{t-1}...w{t-n+1})$, just like we do in n-grams modelling.  \n",
    "Now, from $(5)$ & $(7)$, we want to get the joint probability of the whole word sequence $W$ of word count $T$:\n",
    "$$P(w_t w_{t-1}...w_1) = \\prod_{k=1}^T{P(w_k | w_{k-n+1:k-1})} \\newline\n",
    "\\approx \\prod_{t = 1}^T{f(w_t, w_{t-1}...w_{t-n+1};\\Theta)} \\tag{8}$$  "
   ]
  },
  {
   "cell_type": "markdown",
   "id": "ca14ee96",
   "metadata": {},
   "source": [
    "<u>What are the parameters included in $\\Theta$?</u>\n",
    "\n",
    "The parameters we have would depend on the model's architecture, we have mainly 2 parts (according to the architecture proposed in the text.):\n",
    "1. Assuming we would have a set of vocabulary $V$ of size $|V|$, we want to create a mapping (a lookup table) $C$ for each word $w_i$ to a vector $v_{w_i}$ whose dimensions $\\in \\mathbb{R}^m$. In other words: $C(w_i) = v_{w_i} \\mid v_{w_i} \\in \\mathbb{R}^m$.\n",
    "2. The probability function $g$ that takes the mapping $C$ of the input words and maps them to the probability distribution over the vocab $V$.\n",
    "    $$f(w_t, w_{t-1}...w_{t-n+1};\\Theta) = g(i, C(w_{t-1}...w_{t-n+1}))$$\n",
    "\n",
    "So $g$ outputs a vector of $|V|$ dimensions ($\\in \\mathbb{R}^{|V|}$), where the $i_{th}$ dimension or element corresponds to the probability of $i_{th}$ word being the next token:\n",
    "$$\\hat{P}(w_t=i | w_{1:t-1})$$\n",
    "\n",
    "Then $C$ would be an $|V| \\times m$ matrix. You can also say that $C$ is the word embeddings as a term we know of today."
   ]
  },
  {
   "cell_type": "markdown",
   "id": "3f75abbc",
   "metadata": {},
   "source": [
    "We now want to start definining the loss function, which will be equivalent to $(8)$:\n",
    "$$l = \\prod_{t = 1}^T{f(w_t, w_{t-1}...w_{t-n+1};\\Theta)} \\tag{9}$$\n",
    "\n",
    "We can transform the product into a summation by taking the log of both sides:\n",
    "$$log(l) = log(\\prod_{t = 1}^T{f(w_t, w_{t-1}...w_{t-n+1};\\Theta)}) \\newline\n",
    "= \\sum_{t = 1}^T{log(f(w_t, w_{t-1}...w_{t-n+1};\\Theta))} \\tag{10}$$\n",
    "**<u>Why do we take the log:</u>**  \n",
    "* Multiplying a lot of probabilities would make the resulting value approach $0$, or a numerical underflow when running on a computer which can mess up the calculations and results.\n",
    "* Likewise if we were multiplying large numbers would result in an even bigger result, eventually leading to an overflow.\n",
    "\n",
    "What we reached in $(10)$ is what we call Log Likelihood. So, from $(10)$, our loss function would be:\n",
    "$$L = \\sum_{t = 1}^T{log(f(w_t, w_{t-1}...w_{t-n+1};\\Theta))} \\tag{11}$$\n",
    "\n",
    "We can also add a Regularization function $R$ that regularizes the set of parameters $\\Theta$, or a subset of $\\Theta$ called $\\Omega$:\n",
    "$$L = \\sum_{t = 1}^T{log(f(w_t, w_{t-1}...w_{t-n+1};\\Theta))} + R(\\Omega) \\tag{12}$$\n",
    "\n",
    "But I won't use the regularized term $R(\\Omega)$ in this implementation, so we will use $(11)$ as our Loss Function for the implementation."
   ]
  },
  {
   "cell_type": "markdown",
   "id": "5e4a48a4",
   "metadata": {},
   "source": [
    "Now for the network's architecture:  \n",
    "<p align=\"center\">\n",
    "    <img src=\"../images/model_architecture.jpeg\" alt=\"Bengio, et al. 2003\" width=\"600\"/>\n",
    "</p>  \n",
    "\n",
    "The first layer is the embeddings layer, then we have just one hidden layer before the $Softmax$ function. They also describe that **we can optionally connect the embeddings layer directly to the softmax layer.**"
   ]
  },
  {
   "cell_type": "markdown",
   "id": "440b1c00",
   "metadata": {},
   "source": [
    "**<u>What what are the parameters we have?</u>**  \n",
    "\n",
    "$$\\Theta = (b, d, W, U, H, C)$$\n",
    "\n",
    "| Parameter | Size | Optional | Description |\n",
    "|:----------:|:----------:|:----------:|:----------:|\n",
    "| $C$    | $\\|V\\| \\times m$   | No   | The lookup table for the vector representation of each word in the vocabulary $\\|V\\|$.   |\n",
    "| $H$    | $h \\times (n-1) m$  | No   | The weights matrix for the hidden layer.   |\n",
    "| $U$    | $\\|V\\| \\times h$  | No   | The weights matrix for the hidden layer output to the softmax layer.   |\n",
    "| $b$    | $\\|V\\|$  | No   | The output layer's biases.   |\n",
    "| $d$    | $h$  | No   | The hidden layer's biases.   |\n",
    "| $W$    | $\\|V\\| \\times (n-1)m$  | Yes   | The weights matrix for optional connection between the embeddings layer and softmax layer.   |\n",
    "\n",
    "Such that the logits of the output layer y that's passed to the softmax activation:\n",
    "$$y = b + Wx + U tanh(d + Hx)$$\n",
    "\n",
    "The softmax activation (predicted probability of word $w_t$ given the previous $n$):\n",
    "$$\\hat{P}(w_t | w_{t-1:t-n+1}) = \\frac{\\textit{e}^{y_{w_t}}}{\\sum_{i}{\\textit{e}^{y_i}}}$$\n"
   ]
  },
  {
   "cell_type": "markdown",
   "id": "df072bcd",
   "metadata": {},
   "source": [
    "Perhaps that's enough reading, lets try to make a naive implementation of the architecture above with ***PyTorch***."
   ]
  },
  {
   "cell_type": "code",
   "execution_count": null,
   "id": "5111610a",
   "metadata": {},
   "outputs": [],
   "source": [
    "import torch\n",
    "from torch import nn\n",
    "\n",
    "# Our Neural Language Model's class\n",
    "class NLM(nn.Module):\n",
    "    def __init__(self, *args, **kwargs):\n",
    "        super().__init__(*args, **kwargs)\n",
    "        \n",
    "        "
   ]
  },
  {
   "cell_type": "code",
   "execution_count": 16,
   "id": "6a6705cb",
   "metadata": {},
   "outputs": [
    {
     "name": "stderr",
     "output_type": "stream",
     "text": [
      "[nltk_data] Downloading package brown to /Users/shadyali/nltk_data...\n",
      "[nltk_data]   Unzipping corpora/brown.zip.\n"
     ]
    },
    {
     "data": {
      "text/plain": [
       "<CategorizedTaggedCorpusReader in '/Users/shadyali/nltk_data/corpora/brown'>"
      ]
     },
     "execution_count": 16,
     "metadata": {},
     "output_type": "execute_result"
    }
   ],
   "source": [
    "import nltk\n",
    "from nltk.corpus import brown\n",
    "nltk.download('brown')\n",
    "brown"
   ]
  },
  {
   "cell_type": "code",
   "execution_count": 20,
   "id": "fe290c99",
   "metadata": {},
   "outputs": [
    {
     "data": {
      "text/plain": [
       "[['The', 'Fulton', 'County', 'Grand', 'Jury', 'said', 'Friday', 'an', 'investigation', 'of', \"Atlanta's\", 'recent', 'primary', 'election', 'produced', '``', 'no', 'evidence', \"''\", 'that', 'any', 'irregularities', 'took', 'place', '.'], ['The', 'jury', 'further', 'said', 'in', 'term-end', 'presentments', 'that', 'the', 'City', 'Executive', 'Committee', ',', 'which', 'had', 'over-all', 'charge', 'of', 'the', 'election', ',', '``', 'deserves', 'the', 'praise', 'and', 'thanks', 'of', 'the', 'City', 'of', 'Atlanta', \"''\", 'for', 'the', 'manner', 'in', 'which', 'the', 'election', 'was', 'conducted', '.'], ...]"
      ]
     },
     "execution_count": 20,
     "metadata": {},
     "output_type": "execute_result"
    }
   ],
   "source": [
    "brown.sents()"
   ]
  },
  {
   "cell_type": "code",
   "execution_count": 25,
   "id": "1915fdf6",
   "metadata": {},
   "outputs": [
    {
     "data": {
      "text/plain": [
       "1161192"
      ]
     },
     "execution_count": 25,
     "metadata": {},
     "output_type": "execute_result"
    }
   ],
   "source": [
    "len(brown.words())"
   ]
  },
  {
   "cell_type": "code",
   "execution_count": 26,
   "id": "7cfd86bf",
   "metadata": {},
   "outputs": [
    {
     "data": {
      "text/plain": [
       "56057"
      ]
     },
     "execution_count": 26,
     "metadata": {},
     "output_type": "execute_result"
    }
   ],
   "source": [
    "len(set(brown.words()))"
   ]
  }
 ],
 "metadata": {
  "kernelspec": {
   "display_name": "base",
   "language": "python",
   "name": "python3"
  },
  "language_info": {
   "codemirror_mode": {
    "name": "ipython",
    "version": 3
   },
   "file_extension": ".py",
   "mimetype": "text/x-python",
   "name": "python",
   "nbconvert_exporter": "python",
   "pygments_lexer": "ipython3",
   "version": "3.12.8"
  }
 },
 "nbformat": 4,
 "nbformat_minor": 5
}
