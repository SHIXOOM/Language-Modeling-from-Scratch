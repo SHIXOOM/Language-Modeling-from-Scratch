{
 "cells": [
  {
   "cell_type": "markdown",
   "id": "9cd0084f",
   "metadata": {},
   "source": [
    "The explanations and what I will apply is from and after reading ***A neural probabilistic language model paper*** *(Bengio, Y., et al, 2003)*"
   ]
  },
  {
   "cell_type": "markdown",
   "id": "cc880eec",
   "metadata": {},
   "source": [
    "So we learned about n-grams language models, and how we can predict the next word given the $n$ previous words. And we implemented a **very simple** bigram model.  \n",
    "Now, my next step was to understand word embeddings is how n-grams and statistical language modeling translated into neural networks and deep learning."
   ]
  },
  {
   "cell_type": "markdown",
   "id": "fcbc566e",
   "metadata": {},
   "source": [
    "So in *(Bengio, Y., et al, 2003)*, the motivations they had is that it's difficult to model the joint probablity distribution of multiple consecutive words (random variables with **discrete** values.) An example would be having a sentence of 10 words where each one could have any value of a vocabulary of $100000$ words, so you have about $100000^{10}$ different possibilities or as they say \"free parameters\" for that sentence.\n",
    "\n",
    "They also explained that modeling continuous variables is easier for generalization because the approximation function we want to learn is expected to **have** some smooth properties (neural networks would be a good example.) So the continuous space has a smoother space unlike discrete spaces where are more, idk, **discrete?** And they explain more about discrete spaces:  \n",
    "***\"For discrete spaces, the generalization structure is not as obvious: any change of these discrete variables may have a drastic impact on the value of the function to be estimated, and when the number of values that each discrete variable can take is large, most observed objects are almost maximally far from each other in hamming distance.\"***"
   ]
  },
  {
   "cell_type": "markdown",
   "id": "e064b2b0",
   "metadata": {},
   "source": [
    "**<u>Disclaimer:</u>**  \n",
    "We are now going into the approach proposed and the mathematics and the design of it. Since I myself am trying to learn here, I won't be following the paper exactly here, meaning that I could:  \n",
    "1.  Add a little bit more mathematics to give you and myself a better idea of what's happening.  \n",
    "2.  Branch quickly in what I am writing to explain some other concepts that will help us understand what we have here better, which might be trivial to you depending on your level and knowledge so you can skip. But it won't be long anyway, this isn't an article (yet!)  "
   ]
  },
  {
   "cell_type": "markdown",
   "id": "cef7199b",
   "metadata": {},
   "source": [
    "So previously, we learned that you can predict the next word $w_t$ given all previous ones:  \n",
    "    $$P(w_t | w_{1:t-1}) \\tag{1}$$  \n",
    "    \n",
    "But in n-grams, we wanted to approximate $(1)$ by using just the $n$ words before $w_t$ as follows:  \n",
    "    $$P(w_t | w_{t-n+1:t-1}) \\approx P(w_t | w_{1:t-1}) \\tag{2}$$\n",
    "\n",
    "Remember the joint probability equation, assuming there's a dependance between variables $x$, $y$, and $z$ (which in our case are words):\n",
    "    $$P(x \\cap y \\cap z) = P(x, y, z) = P(z) P(y | z) P(x | z, y) \\tag{3}$$\n",
    "Which can be generalized to:\n",
    "    $$P(x_i, x_{i-1}...x_{1}) = \\prod_{k = 1}^n{P(x_k | x_1, x_2...x_{k-1})} \\tag{4}$$\n",
    "\n",
    "And now that we can approximate the probability of $w_t$, we can get the joint probability of a sentence or a sequence of words $W$ of length $T$:  \n",
    "\n",
    "$$P(w_t w_{t-1}...w_1) = \\prod_{k=1}^T{P(w_k | w_{k-n+1:k-1})} \\tag{5}$$\n",
    "\n",
    "This is the function we would want to maximize.\n",
    "\n",
    "Side note for the joint probability in $(3)$: if we assumed there's no dependance between $x$, $y$, and $z$, we have:\n",
    "    $$P(x, y, z) = P(x) P(y) P(z) \\tag{6}$$"
   ]
  },
  {
   "cell_type": "markdown",
   "id": "db3fe590",
   "metadata": {},
   "source": [
    "We are now want to use neural network to find a good function $f$ that approximates this joint probability distribution for a specific corpus. $f$ would have a set of trainable parameters $\\Theta$.  \n",
    "Now from above and $(2)$:  \n",
    "$$P(w_t | w_{t-n+1:t-1}) \\approx P(w_t | w_{1:t-1})$$\n",
    "$$\\approx f(w_t, w_{t-1}...w_{t-n+1};\\Theta) \\tag{7}$$\n",
    "\n",
    "You can notice that $f$ uses $w_t$ and the n previous words $(w_{t-1}...w{t-n+1})$, just like we do in n-grams modelling.  \n",
    "Now, from $(5)$ & $(7)$, we want to get the joint probability of the whole word sequence $W$ of word count $T$:\n",
    "$$P(w_t w_{t-1}...w_1) = \\prod_{k=1}^T{P(w_k | w_{k-n+1:k-1})} $$\n",
    "$$\\approx \\prod_{t = 1}^T{f(w_t, w_{t-1}...w_{t-n+1};\\Theta)} \\tag{8}$$  "
   ]
  },
  {
   "cell_type": "markdown",
   "id": "ca14ee96",
   "metadata": {},
   "source": [
    "<u>What are the parameters included in $\\Theta$?</u>\n",
    "\n",
    "The parameters we have would depend on the model's architecture, we have mainly 2 parts (according to the architecture proposed in the text.):\n",
    "1. Assuming we would have a set of vocabulary $V$ of size $|V|$, we want to create a mapping (a lookup table) $C$ for each word $w_i$ to a vector $v_{w_i}$ whose dimensions $\\in \\mathbb{R}^m$. In other words: $C(w_i) = v_{w_i} \\mid v_{w_i} \\in \\mathbb{R}^m$.\n",
    "2. The probability function $g$ that takes the mapping $C$ of the input words and maps them to the probability distribution over the vocab $V$.\n",
    "    $$f(w_t, w_{t-1}...w_{t-n+1};\\Theta) = g(i, C(w_{t-1}...w_{t-n+1}))$$\n",
    "\n",
    "So $g$ outputs a vector of $|V|$ dimensions ($\\in \\mathbb{R}^{|V|}$), where the $i_{th}$ dimension or element corresponds to the probability of $i_{th}$ word being the next token:\n",
    "$$\\hat{P}(w_t=i | w_{1:t-1})$$\n",
    "\n",
    "Then $C$ would be an $|V| \\times m$ matrix. You can also say that $C$ is the word embeddings as a term we know of today."
   ]
  },
  {
   "cell_type": "markdown",
   "id": "3f75abbc",
   "metadata": {},
   "source": [
    "We now want to start definining the loss function, which will be equivalent to $(8)$:\n",
    "$$l = \\prod_{t = 1}^T{f(w_t, w_{t-1}...w_{t-n+1};\\Theta)} \\tag{9}$$\n",
    "\n",
    "We can transform the product into a summation by taking the log of both sides:\n",
    "$$log(l) = log(\\prod_{t = 1}^T{f(w_t, w_{t-1}...w_{t-n+1};\\Theta)})$$\n",
    "$$= \\sum_{t = 1}^T{log(f(w_t, w_{t-1}...w_{t-n+1};\\Theta))} \\tag{10}$$\n",
    "**<u>Why do we take the log:</u>**  \n",
    "* Multiplying a lot of probabilities would make the resulting value approach $0$, or a numerical underflow when running on a computer which can mess up the calculations and results.\n",
    "* Likewise if we were multiplying large numbers would result in an even bigger result, eventually leading to an overflow.\n",
    "\n",
    "What we reached in $(10)$ is what we call Log Likelihood. So, from $(10)$, our loss function would be:\n",
    "$$L = \\frac{1}{T} \\sum_{t = 1}^T{log(f(w_t, w_{t-1}...w_{t-n+1};\\Theta))} \\tag{11}$$\n",
    "\n",
    "We can also add a Regularization function $R$ that regularizes the set of parameters $\\Theta$, or a subset of $\\Theta$ called $\\Omega$:\n",
    "$$L = \\frac{1}{T} \\sum_{t = 1}^T{log(f(w_t, w_{t-1}...w_{t-n+1};\\Theta))} + R(\\Omega) \\tag{12}$$\n",
    "\n",
    "But I won't use the regularized term $R(\\Omega)$ in this implementation, so we will use $(11)$ as our Loss Function for the implementation."
   ]
  },
  {
   "cell_type": "markdown",
   "id": "5e4a48a4",
   "metadata": {},
   "source": [
    "Now for the network's architecture:  \n",
    "<p align=\"center\">\n",
    "    <img src=\"../images/model_architecture.jpeg\" alt=\"Bengio, et al. 2003\" width=\"600\"/>\n",
    "</p>  \n",
    "\n",
    "The first layer is the embeddings layer, then we have just one hidden layer before the $Softmax$ function. They also describe that **we can optionally connect the embeddings layer directly to the softmax layer.**"
   ]
  },
  {
   "cell_type": "markdown",
   "id": "440b1c00",
   "metadata": {},
   "source": [
    "**<u>What what are the parameters we have?</u>**  \n",
    "\n",
    "$$\\Theta = (b, d, W, U, H, C)$$\n",
    "\n",
    "| Parameter | Size | Optional | Description |\n",
    "|:----------:|:----------:|:----------:|:----------:|\n",
    "| $C$    | $\\|V\\| \\times m$   | No   | The lookup table for the vector representation of each word in the vocabulary $\\|V\\|$.   |\n",
    "| $H$    | $h \\times (n-1) m$  | No   | The weights matrix for the hidden layer.   |\n",
    "| $U$    | $\\|V\\| \\times h$  | No   | The weights matrix for the hidden layer output to the softmax layer.   |\n",
    "| $b$    | $\\|V\\|$  | No   | The output layer's biases.   |\n",
    "| $d$    | $h$  | No   | The hidden layer's biases.   |\n",
    "| $W$    | $\\|V\\| \\times (n-1)m$  | Yes   | The weights matrix for optional connection between the embeddings layer and softmax layer.   |\n",
    "\n",
    "Such that the logits of the output layer y that's passed to the softmax activation:\n",
    "$$y = b + Wx + U tanh(d + Hx)$$\n",
    "\n",
    "The softmax activation (predicted probability of word $w_t$ given the previous $n$):\n",
    "$$\\hat{P}(w_t | w_{t-1:t-n+1}) = \\frac{\\textit{e}^{y_{w_t}}}{\\sum_{i}{\\textit{e}^{y_i}}}$$\n"
   ]
  },
  {
   "cell_type": "markdown",
   "id": "df072bcd",
   "metadata": {},
   "source": [
    "Perhaps that's enough reading, lets try to make a naive implementation of the architecture above with ***PyTorch***.  \n",
    "And by ***naive*** I mean it's my first time building a Torch module that deals with sequences, so I probably won't do it the most efficient way."
   ]
  },
  {
   "cell_type": "markdown",
   "id": "4418fd42",
   "metadata": {},
   "source": [
    "# Neural Language Model"
   ]
  },
  {
   "cell_type": "code",
   "execution_count": 534,
   "id": "5111610a",
   "metadata": {},
   "outputs": [],
   "source": [
    "import torch\n",
    "from torch import nn\n",
    "\n",
    "\n",
    "# Our Neural Language Model class\n",
    "class NLM(nn.Module):\n",
    "    def __init__(self, v: int, m: int, n: int, h: int, padding_idx: int):\n",
    "        super().__init__()\n",
    "        self.v: int = v  #   Vocabulary size\n",
    "        self.m: int = m  #   Embeddings dimensions\n",
    "        self.n: int = n  #   Context size (the n-grams), we will actually input n-1 words to predict the n^th\n",
    "        self.h: int = h  #   Hidden layer units (neurons)\n",
    "        self.padding_idx: int = padding_idx  #   Indicates the index of the special token to be used to pad the a sequence of length < the context size\n",
    "\n",
    "        #   I started with a randn tensor of shape (v, m) but turns out that Torch has a class for embeddings specifically,\n",
    "        #   where this class stores the lookup table with numerical indices, so we still have to map the words to indices before entering the class\n",
    "        #   or tokenization in other means\n",
    "        self.c = nn.Embedding(\n",
    "            num_embeddings=v, embedding_dim=m, padding_idx=padding_idx\n",
    "        )\n",
    "\n",
    "        #   This way, the linear/Activation layer will take flattened embeddings and produce v outputs\n",
    "        #   I did it this way as per the paper which says that x (output of the embeddings) would be just the concatenation of all feature vectors\n",
    "        #   But you can preserve the dimensionality of the of having each embedding vector seperately even with Linear layers\n",
    "        #   by making the in_features=embedding dimensions\n",
    "        self.linear1 = nn.Linear(in_features=m * (n - 1), out_features=h)\n",
    "        self.tanh = nn.Tanh()\n",
    "\n",
    "        #   The output layer, linear to create a logits and softmax activation to normalize them to probabilities\n",
    "        self.linear2 = nn.Linear(\n",
    "            in_features=h, out_features=v\n",
    "        )  #   + 1 for the padding token\n",
    "        self.softmax = nn.LogSoftmax(\n",
    "            dim=-1\n",
    "        )  #   Use log softmax because NLLoss function will expect log probabilities, spent some time debugging this :)\n",
    "\n",
    "    def forward(self, x):\n",
    "        embeddings = self.c(x)\n",
    "\n",
    "        if (\n",
    "            embeddings.dim() == 3\n",
    "        ):  #   Its a batch input not single input, flatten each input's embeddings\n",
    "            embeddings_flattened = embeddings.flatten(start_dim=1)\n",
    "        else:  #   Single input, flatten the single input's embeddings\n",
    "            embeddings_flattened = embeddings.flatten(start_dim=0)\n",
    "\n",
    "        linear_activation = self.linear1(embeddings_flattened)\n",
    "        non_linear_activation = self.tanh(linear_activation)\n",
    "\n",
    "        logits = self.linear2(non_linear_activation)\n",
    "\n",
    "        return logits"
   ]
  },
  {
   "cell_type": "markdown",
   "id": "865821e6",
   "metadata": {},
   "source": [
    "# Dataset "
   ]
  },
  {
   "cell_type": "markdown",
   "id": "1e4b9d40",
   "metadata": {},
   "source": [
    "I will try to stay close to the paper as much as I can, so we will use brown corpus from nltk, which should be the same they use in the paper, or at least **similar**.  \n",
    "I don't want to drift off so we can compere the results we get to the ones in the paper, but any variations that I do from the one in the paper would probably mean different numbers which means I could've either drifted too much or implemented something incorrectly."
   ]
  },
  {
   "cell_type": "markdown",
   "id": "2251b8cd",
   "metadata": {},
   "source": [
    "## Understand the dataset"
   ]
  },
  {
   "cell_type": "code",
   "execution_count": 2,
   "id": "6a6705cb",
   "metadata": {},
   "outputs": [
    {
     "name": "stderr",
     "output_type": "stream",
     "text": [
      "[nltk_data] Downloading package brown to /Users/shadyali/nltk_data...\n",
      "[nltk_data]   Package brown is already up-to-date!\n"
     ]
    },
    {
     "data": {
      "text/plain": [
       "<CategorizedTaggedCorpusReader in '/Users/shadyali/nltk_data/corpora/brown'>"
      ]
     },
     "execution_count": 2,
     "metadata": {},
     "output_type": "execute_result"
    }
   ],
   "source": [
    "import nltk\n",
    "from nltk.corpus import brown\n",
    "\n",
    "nltk.download(\"brown\")\n",
    "brown"
   ]
  },
  {
   "cell_type": "code",
   "execution_count": 3,
   "id": "fe290c99",
   "metadata": {},
   "outputs": [
    {
     "data": {
      "text/plain": [
       "[['The', 'Fulton', 'County', 'Grand', 'Jury', 'said', 'Friday', 'an', 'investigation', 'of', \"Atlanta's\", 'recent', 'primary', 'election', 'produced', '``', 'no', 'evidence', \"''\", 'that', 'any', 'irregularities', 'took', 'place', '.'], ['The', 'jury', 'further', 'said', 'in', 'term-end', 'presentments', 'that', 'the', 'City', 'Executive', 'Committee', ',', 'which', 'had', 'over-all', 'charge', 'of', 'the', 'election', ',', '``', 'deserves', 'the', 'praise', 'and', 'thanks', 'of', 'the', 'City', 'of', 'Atlanta', \"''\", 'for', 'the', 'manner', 'in', 'which', 'the', 'election', 'was', 'conducted', '.'], ...]"
      ]
     },
     "execution_count": 3,
     "metadata": {},
     "output_type": "execute_result"
    }
   ],
   "source": [
    "brown.sents()"
   ]
  },
  {
   "cell_type": "code",
   "execution_count": 4,
   "id": "1915fdf6",
   "metadata": {},
   "outputs": [
    {
     "data": {
      "text/plain": [
       "1161192"
      ]
     },
     "execution_count": 4,
     "metadata": {},
     "output_type": "execute_result"
    }
   ],
   "source": [
    "len(brown.words())"
   ]
  },
  {
   "cell_type": "code",
   "execution_count": 5,
   "id": "7cfd86bf",
   "metadata": {},
   "outputs": [
    {
     "data": {
      "text/plain": [
       "56057"
      ]
     },
     "execution_count": 5,
     "metadata": {},
     "output_type": "execute_result"
    }
   ],
   "source": [
    "len(set(brown.words()))  # unique words"
   ]
  },
  {
   "cell_type": "code",
   "execution_count": 6,
   "id": "72200864",
   "metadata": {},
   "outputs": [],
   "source": [
    "non_words = [word for word in set(brown.words()) if not word.isalnum()]"
   ]
  },
  {
   "cell_type": "code",
   "execution_count": 7,
   "id": "6c3d5f31",
   "metadata": {},
   "outputs": [
    {
     "data": {
      "text/plain": [
       "['.',\n",
       " 'nine-thirty',\n",
       " '4-d',\n",
       " 'F.R.',\n",
       " 'hard-liquor',\n",
       " \"Sarah's\",\n",
       " '1.10.4',\n",
       " 'out-of-step',\n",
       " 'Ter-Stepanova',\n",
       " 'hit-and-miss',\n",
       " 're-echo',\n",
       " '8-inch',\n",
       " 'SP-44007',\n",
       " 'war-time',\n",
       " 'forward-moving']"
      ]
     },
     "execution_count": 7,
     "metadata": {},
     "output_type": "execute_result"
    }
   ],
   "source": [
    "dot_index = non_words.index(\".\")\n",
    "non_words[dot_index : dot_index + 15]"
   ]
  },
  {
   "cell_type": "markdown",
   "id": "f0356259",
   "metadata": {},
   "source": [
    "So we have about $56k$ unique words, which includes punctuations, words mixed with punctuations, alphanumerals, etc.  \n",
    "The paper replaced all words with frequency $< 3$ with a special token, let's call it \\<unk>.  "
   ]
  },
  {
   "cell_type": "markdown",
   "id": "a64c261e",
   "metadata": {},
   "source": [
    "<span style=\"color:red\"> IMPORTANT NOTE: A MISTAKE I DID (I guess..)</span>  \n",
    "I kept all words in my vocab, and did not even make them all in lower case, so I had about $56k$ words in my vocab. I also concatenated all words and did my own tokenization thing (You can check them out in older commits).  \n",
    "And I struggled for like a **FULL WEEK** to figure out what I did wrong to get such a terrible results, not realizing it could possibly be because of tokenization and the way I split the *tokens*.  \n",
    "Take care, tokenization is much more important than you think."
   ]
  },
  {
   "cell_type": "markdown",
   "id": "f6f6623b",
   "metadata": {},
   "source": [
    "Let us keep the same tokenization done from nltk on brown corpus.  \n",
    "But we will:  \n",
    "1. Make all words lowercase.\n",
    "2. Replace words with frequency $< 3$ with the \\<unk> token. Which will also be the padding token."
   ]
  },
  {
   "cell_type": "code",
   "execution_count": 8,
   "id": "dd5bc693",
   "metadata": {},
   "outputs": [],
   "source": [
    "# All lowercase\n",
    "sentences = [[word.lower() for word in sentence] for sentence in list(brown.sents())]"
   ]
  },
  {
   "cell_type": "code",
   "execution_count": 9,
   "id": "e270d164",
   "metadata": {},
   "outputs": [],
   "source": [
    "# I want to flatten the sentences dimension first, then count each word frequency, then replace all < 3\n",
    "words = [word for sentence in sentences for word in sentence]\n",
    "word_counts = {word: 0 for word in words}\n",
    "# this is years more efficient than using words.count(word) in dictionary comprehension above\n",
    "for word in words:\n",
    "    word_counts[word] += 1"
   ]
  },
  {
   "cell_type": "code",
   "execution_count": 10,
   "id": "edec4ab7",
   "metadata": {},
   "outputs": [
    {
     "data": {
      "text/plain": [
       "16690"
      ]
     },
     "execution_count": 10,
     "metadata": {},
     "output_type": "execute_result"
    }
   ],
   "source": [
    "for i, sentence in enumerate(sentences):\n",
    "    for j, word in enumerate(sentence):\n",
    "        if word_counts[word] <= 3:\n",
    "            sentences[i][j] = \"<unk>\"\n",
    "vocab = {word for sentence in sentences for word in sentence}\n",
    "len(vocab)  #   Close enough to the paper"
   ]
  },
  {
   "cell_type": "markdown",
   "id": "d6290833",
   "metadata": {},
   "source": [
    "## Tokenization"
   ]
  },
  {
   "cell_type": "markdown",
   "id": "46990c26",
   "metadata": {},
   "source": [
    "Our padding, special in other words, token will be $<unk>$, which we already added."
   ]
  },
  {
   "cell_type": "code",
   "execution_count": 11,
   "id": "9fb600a3",
   "metadata": {},
   "outputs": [
    {
     "data": {
      "text/plain": [
       "6020"
      ]
     },
     "execution_count": 11,
     "metadata": {},
     "output_type": "execute_result"
    }
   ],
   "source": [
    "word_to_token = {word: token for token, word in enumerate(vocab)}\n",
    "word_to_token[\"<unk>\"]"
   ]
  },
  {
   "cell_type": "code",
   "execution_count": 12,
   "id": "f0a79a24",
   "metadata": {},
   "outputs": [
    {
     "data": {
      "text/plain": [
       "[('revolution', 0),\n",
       " ('subsided', 1),\n",
       " ('facility', 2),\n",
       " (\"morgan's\", 3),\n",
       " ('ceased', 4),\n",
       " ('representations', 5),\n",
       " ('chic', 6),\n",
       " ('racket', 7),\n",
       " ('castles', 8),\n",
       " ('ice', 9)]"
      ]
     },
     "execution_count": 12,
     "metadata": {},
     "output_type": "execute_result"
    }
   ],
   "source": [
    "list(word_to_token.items())[:10]"
   ]
  },
  {
   "cell_type": "code",
   "execution_count": 13,
   "id": "d4416bd3",
   "metadata": {},
   "outputs": [],
   "source": [
    "#   Tokenization function\n",
    "def _tokenize(words: list[str]) -> list[int]:\n",
    "    words = [word.lower() for word in words]\n",
    "    tokens: list[int] = [\n",
    "        word_to_token.get(word, word_to_token[\"<unk>\"]) for word in words\n",
    "    ]\n",
    "    return tokens"
   ]
  },
  {
   "cell_type": "markdown",
   "id": "5bebbbf1",
   "metadata": {},
   "source": [
    "Let's test encoding and tokenize on the full text now"
   ]
  },
  {
   "cell_type": "code",
   "execution_count": 14,
   "id": "f7836571",
   "metadata": {},
   "outputs": [
    {
     "data": {
      "text/plain": [
       "[13642, 11706, 5940, 15894]"
      ]
     },
     "execution_count": 14,
     "metadata": {},
     "output_type": "execute_result"
    }
   ],
   "source": [
    "test_sequence = [\"Hello\", \",\", \"my\", \"Dear\"]\n",
    "_tokenize(test_sequence)"
   ]
  },
  {
   "cell_type": "markdown",
   "id": "7a8b0fcf",
   "metadata": {},
   "source": [
    "So there you have it! We can tokenize now"
   ]
  },
  {
   "cell_type": "markdown",
   "id": "9d1e5e43",
   "metadata": {},
   "source": [
    "Lets structure our data for training now"
   ]
  },
  {
   "cell_type": "markdown",
   "id": "a2bcee3a",
   "metadata": {},
   "source": [
    "## Structuring Dataset"
   ]
  },
  {
   "cell_type": "markdown",
   "id": "5fca7e1f",
   "metadata": {},
   "source": [
    "We will do batch training, so we want to divide our corpus into batches of sequences.  \n",
    "We will make a class for the dataset where it will create a list of a sliding window of $n-1$ words, and the $n^{th}$ is the label.  \n",
    "The class the handle tokenization internally and will provide functions to encode and decode words to tokens and vice-versa."
   ]
  },
  {
   "cell_type": "code",
   "execution_count": null,
   "id": "9a18e20b",
   "metadata": {},
   "outputs": [],
   "source": [
    "import torch\n",
    "from torch.utils.data import Dataset\n",
    "\n",
    "\n",
    "class Corpus(Dataset):\n",
    "    def __init__(self, vocab: set[str], n: int, sentences: list[list[str]]):\n",
    "        super().__init__()\n",
    "        self.context_window: int = n\n",
    "\n",
    "        self.vocab: set[str] = vocab\n",
    "        self.vocab_length: int = len(vocab)\n",
    "\n",
    "        self.word_to_token: dict[str, int] = {\n",
    "            word: idx for idx, word in enumerate(vocab)\n",
    "        }\n",
    "        self.padding_token = word_to_token[\"<unk>\"]\n",
    "\n",
    "        self.token_to_word: dict[str, int] = {\n",
    "            idx: word for idx, word in enumerate(vocab)\n",
    "        }\n",
    "        self.padding_word = [\"<unk>\"]\n",
    "\n",
    "        self.sentences: list[list[str]] = sentences\n",
    "\n",
    "        all_words = [word for sentence in self.sentences for word in sentence]\n",
    "        self.full_text_tokenized: list[int] = self._tokenize(all_words)\n",
    "\n",
    "        self.get_all_windows()\n",
    "\n",
    "    def _tokenize(self, words: list[str]) -> list[int]:\n",
    "        words = [word.lower() for word in words]\n",
    "        tokens: list[int] = [\n",
    "            word_to_token.get(word, word_to_token[\"<unk>\"]) for word in words\n",
    "        ]\n",
    "        return tokens\n",
    "\n",
    "    def tokenize_text(cls, text: list[str]) -> torch.Tensor:\n",
    "        return torch.tensor(cls._tokenize(text))\n",
    "\n",
    "    def decode(self, tokens: torch.Tensor) -> list[str]:\n",
    "        tokens = (\n",
    "            tokens.tolist() if tokens.shape else [tokens.tolist()]\n",
    "        )  # A scaler value will output the value without list, raising an error below\n",
    "\n",
    "        words: list[int] = [self.token_to_word[token] for token in tokens]\n",
    "        return words\n",
    "\n",
    "    def get_all_windows(self) -> None:\n",
    "        self.input_tokens = []\n",
    "        self.next_token = []\n",
    "\n",
    "        corpus_size = len(self.full_text_tokenized)\n",
    "        for index in range(corpus_size):\n",
    "            if index + self.context_window - 1 < corpus_size:\n",
    "                self.input_tokens.append(\n",
    "                    self.full_text_tokenized[index : index + self.context_window - 1]\n",
    "                )\n",
    "                self.next_token.append(\n",
    "                    self.full_text_tokenized[index + self.context_window - 1]\n",
    "                )\n",
    "\n",
    "    def __len__(self):\n",
    "        return len(self.input_tokens)\n",
    "\n",
    "    def __getitem__(self, window):\n",
    "        return torch.tensor(self.input_tokens[window]), torch.tensor(\n",
    "            self.next_token[window]\n",
    "        )"
   ]
  },
  {
   "cell_type": "code",
   "execution_count": 16,
   "id": "4fd1cab6",
   "metadata": {},
   "outputs": [],
   "source": [
    "dataset = Corpus(vocab=vocab, n=4, sentences=sentences)"
   ]
  },
  {
   "cell_type": "code",
   "execution_count": 17,
   "id": "f0173529",
   "metadata": {},
   "outputs": [
    {
     "data": {
      "text/plain": [
       "(tensor([ 3308, 13396, 12442]), tensor(517))"
      ]
     },
     "execution_count": 17,
     "metadata": {},
     "output_type": "execute_result"
    }
   ],
   "source": [
    "dataset[0]"
   ]
  },
  {
   "cell_type": "code",
   "execution_count": 18,
   "id": "a81331e7",
   "metadata": {},
   "outputs": [
    {
     "data": {
      "text/plain": [
       "tensor([ 5930,  1436, 10984])"
      ]
     },
     "execution_count": 18,
     "metadata": {},
     "output_type": "execute_result"
    }
   ],
   "source": [
    "dataset.tokenize_text([\"I\", \"Love\", \"ham\"])"
   ]
  },
  {
   "cell_type": "code",
   "execution_count": 19,
   "id": "9fa60910",
   "metadata": {},
   "outputs": [
    {
     "data": {
      "text/plain": [
       "(['.', 'the', '<unk>'], ['term'])"
      ]
     },
     "execution_count": 19,
     "metadata": {},
     "output_type": "execute_result"
    }
   ],
   "source": [
    "dataset.decode(dataset[67][0]), dataset.decode(dataset[67][1])"
   ]
  },
  {
   "cell_type": "markdown",
   "id": "06bd55ce",
   "metadata": {},
   "source": [
    "We can now use the DataLoader class to get an iterator to produce batches of training data for us"
   ]
  },
  {
   "cell_type": "code",
   "execution_count": 20,
   "id": "5a1f04a9",
   "metadata": {},
   "outputs": [],
   "source": [
    "from torch.utils.data import DataLoader\n",
    "\n",
    "data_iterator = iter(DataLoader(dataset=dataset, batch_size=2, shuffle=True))"
   ]
  },
  {
   "cell_type": "code",
   "execution_count": 21,
   "id": "3f7cad6f",
   "metadata": {},
   "outputs": [
    {
     "name": "stdout",
     "output_type": "stream",
     "text": [
      "Feature batch shape: torch.Size([2, 3])\n",
      "Labels batch shape: torch.Size([2])\n"
     ]
    }
   ],
   "source": [
    "input, label = next(data_iterator)\n",
    "print(f\"Feature batch shape: {input.shape}\")\n",
    "print(f\"Labels batch shape: {label.shape}\")"
   ]
  },
  {
   "cell_type": "markdown",
   "id": "1b40c65a",
   "metadata": {},
   "source": [
    "The loader is working!!"
   ]
  },
  {
   "cell_type": "markdown",
   "id": "f069b508",
   "metadata": {},
   "source": [
    "I think we are ready now to split our data, ***AND TRAIN OUR MODEL***"
   ]
  },
  {
   "cell_type": "markdown",
   "id": "cbdf012b",
   "metadata": {},
   "source": [
    "# MODEL TRAINING"
   ]
  },
  {
   "cell_type": "markdown",
   "id": "a9500490",
   "metadata": {},
   "source": [
    "## Setup"
   ]
  },
  {
   "cell_type": "markdown",
   "id": "d060b7a8",
   "metadata": {},
   "source": [
    "Let's setup our model and move it to the GPU"
   ]
  },
  {
   "cell_type": "markdown",
   "id": "583405c7",
   "metadata": {},
   "source": [
    "MPS is the GPU backend for Macs, so change it to CUDA if you're using Nvidia driver."
   ]
  },
  {
   "cell_type": "code",
   "execution_count": 186,
   "id": "95aaeb48",
   "metadata": {},
   "outputs": [
    {
     "data": {
      "text/plain": [
       "'mps'"
      ]
     },
     "execution_count": 186,
     "metadata": {},
     "output_type": "execute_result"
    }
   ],
   "source": [
    "device = (\n",
    "    \"mps\"\n",
    "    if torch.backends.mps.is_available()\n",
    "    else \"cuda\"\n",
    "    if torch.cuda.is_available()\n",
    "    else \"cpu\"\n",
    ")\n",
    "device"
   ]
  },
  {
   "cell_type": "markdown",
   "id": "6156d721",
   "metadata": {},
   "source": [
    "I will try to replicate the same hyper parameters used in the experiments, I won't do every combination though.\n",
    "For now lets do:  \n",
    "* n = 5\n",
    "* h = 100\n",
    "* m = 30\n",
    "* direct = No       <br>*There's no direct connections from the embeddings layer to the output*</br>\n",
    "* mix = No          <br>*Mixing the model with other models like n-grams (if I understood correctly)*</br>"
   ]
  },
  {
   "cell_type": "code",
   "execution_count": 187,
   "id": "7a5745e2",
   "metadata": {},
   "outputs": [],
   "source": [
    "dataset = Corpus(n=5, vocab=vocab, sentences=sentences)"
   ]
  },
  {
   "cell_type": "code",
   "execution_count": 813,
   "id": "34258e37",
   "metadata": {},
   "outputs": [
    {
     "data": {
      "text/plain": [
       "NLM(\n",
       "  (c): Embedding(16690, 30, padding_idx=6020)\n",
       "  (linear1): Linear(in_features=120, out_features=100, bias=True)\n",
       "  (tanh): Tanh()\n",
       "  (linear2): Linear(in_features=100, out_features=16690, bias=True)\n",
       "  (softmax): LogSoftmax(dim=-1)\n",
       ")"
      ]
     },
     "execution_count": 813,
     "metadata": {},
     "output_type": "execute_result"
    }
   ],
   "source": [
    "nlm = NLM(v=dataset.vocab_length, m=30, n=5, h=100, padding_idx=dataset.padding_token)\n",
    "nlm.to(device)"
   ]
  },
  {
   "cell_type": "markdown",
   "id": "e65b4eef",
   "metadata": {},
   "source": [
    "For our loss function, we will use the ***Negative Log Likelihood*** instead of ***Log Likelihood*** to make our goal be minimizing instead of maximizing.  \n",
    "So we will just add a negative sign to equation $(11)$:  \n",
    "$$L = \\frac{1}{T} \\sum_{t = 1}^T{-log(f(w_t, w_{t-1}...w_{t-n+1};\\Theta))} \\tag{13}$$"
   ]
  },
  {
   "cell_type": "markdown",
   "id": "48e17628",
   "metadata": {},
   "source": [
    "We will make our ***learning rate*** $\\epsilon_o = 10^{-2}$ (supposed to be $10^{-3}$ but that would make the training much slower with low batch size, I'll explain this later.), will use a scheduler $\\epsilon_t = \\frac{\\epsilon_o}{1 + rt}$ to decrease the rate, where $r = 10^{-8}$ is the decrease factor and $t$ is the number of parameter updates done.  \n",
    "I'm not entirely sure what optimizer they use, but I believe it's ***Stochastic Gradient Descent*** as they mention it in section $3.1$ for each CPU update.\n",
    "They also mention a weight decay penalty of $10^{-4}$ in section $4.2$"
   ]
  },
  {
   "cell_type": "code",
   "execution_count": 814,
   "id": "044525ca",
   "metadata": {},
   "outputs": [],
   "source": [
    "learning_rate = 0.025\n",
    "\n",
    "loss_function = nn.NLLLoss()\n",
    "\n",
    "optimizer = torch.optim.SGD(\n",
    "    params=nlm.parameters(), lr=learning_rate, weight_decay=1e-4\n",
    ")"
   ]
  },
  {
   "cell_type": "markdown",
   "id": "cda1ecce",
   "metadata": {},
   "source": [
    "Lets define the learning rate scheduler"
   ]
  },
  {
   "cell_type": "code",
   "execution_count": 815,
   "id": "2c262006",
   "metadata": {},
   "outputs": [],
   "source": [
    "# LambdaLR allows you to define a specific function that uses epoch and multiplies that function by the current learning rate\n",
    "r = 1e-8\n",
    "lr_scheduler = torch.optim.lr_scheduler.LambdaLR(\n",
    "    optimizer=optimizer, lr_lambda=lambda epoch: 1 / (1 + r * epoch)\n",
    ")"
   ]
  },
  {
   "cell_type": "markdown",
   "id": "a5399262",
   "metadata": {},
   "source": [
    "Split the dataset"
   ]
  },
  {
   "cell_type": "code",
   "execution_count": 816,
   "id": "56a10c0e",
   "metadata": {},
   "outputs": [
    {
     "data": {
      "text/plain": [
       "1161188"
      ]
     },
     "execution_count": 816,
     "metadata": {},
     "output_type": "execute_result"
    }
   ],
   "source": [
    "len(dataset)"
   ]
  },
  {
   "cell_type": "code",
   "execution_count": 817,
   "id": "4b729023",
   "metadata": {},
   "outputs": [],
   "source": [
    "from torch.utils.data import Subset\n",
    "\n",
    "indices = list(range(len(dataset)))\n",
    "\n",
    "train_size = 800000\n",
    "validation_size = 200000\n",
    "test_size = 161188\n",
    "\n",
    "train_set = Subset(dataset=dataset, indices=indices[:train_size])\n",
    "\n",
    "validation_set = Subset(\n",
    "    dataset=dataset, indices=indices[train_size : train_size + validation_size]\n",
    ")\n",
    "\n",
    "test_set = Subset(dataset=dataset, indices=indices[train_size + validation_size :])"
   ]
  },
  {
   "cell_type": "markdown",
   "id": "76df4a6d",
   "metadata": {},
   "source": [
    "Lets compute the perplexity as our metric since the paper uses it.  \n",
    "* Perplexity measures the uncertainty the model has when predicting the next token.  \n",
    "* So a smaller perplexity means a more certain model."
   ]
  },
  {
   "cell_type": "code",
   "execution_count": 818,
   "id": "26de6fa1",
   "metadata": {},
   "outputs": [],
   "source": [
    "from torcheval.metrics.text import Perplexity\n",
    "\n",
    "\n",
    "def calculate_perplexity(vocab_length, dataset, batch_size, model):\n",
    "    perplexity = Perplexity(\n",
    "        ignore_index=vocab_length,\n",
    "    )\n",
    "\n",
    "    data_iterator = iter(\n",
    "        DataLoader(\n",
    "            dataset=dataset,\n",
    "            batch_size=model.n * batch_size,\n",
    "        )\n",
    "    )\n",
    "\n",
    "    model.eval()\n",
    "    with torch.no_grad():\n",
    "        for inputs, labels in data_iterator:\n",
    "            y_train_log_probs = model(inputs.to(device))\n",
    "\n",
    "            perplexity.update(y_train_log_probs.cpu().unsqueeze(1), labels.unsqueeze(1))\n",
    "\n",
    "            del inputs, labels, y_train_log_probs\n",
    "            torch.mps.empty_cache()\n",
    "        score = perplexity.compute()\n",
    "    model.train()\n",
    "\n",
    "    return score"
   ]
  },
  {
   "cell_type": "markdown",
   "id": "a46a97a1",
   "metadata": {},
   "source": [
    "## THE TRAINING LOOP"
   ]
  },
  {
   "cell_type": "markdown",
   "id": "bb575ae4",
   "metadata": {},
   "source": [
    "I will use some configurations from my last project for the loop"
   ]
  },
  {
   "cell_type": "code",
   "execution_count": 819,
   "id": "863f8e61",
   "metadata": {},
   "outputs": [],
   "source": [
    "from torch.utils.data import DataLoader\n",
    "from tqdm import tqdm\n",
    "\n",
    "\n",
    "def train(dataset, batch_size, epochs, model, validation_set):\n",
    "    train_batch_loss = []\n",
    "    train_epoch_loss = []\n",
    "    train_learning_rate = []\n",
    "\n",
    "    model.train()\n",
    "    for _ in range(epochs):\n",
    "        data_iterator = iter(\n",
    "            DataLoader(dataset=dataset, batch_size=batch_size, shuffle=True)\n",
    "        )\n",
    "\n",
    "        batch_info = {}\n",
    "\n",
    "        with tqdm(\n",
    "            enumerate(data_iterator),\n",
    "            total=len(data_iterator),\n",
    "            desc=\"Training\",\n",
    "            unit=\"Batch\",\n",
    "        ) as batches:\n",
    "            for batch_index, (inputs, labels) in batches:\n",
    "                optimizer.zero_grad()\n",
    "\n",
    "                inputs, labels = inputs.to(device), labels.to(device)\n",
    "                predicted_log_probabilites = model.softmax(\n",
    "                    model(inputs)\n",
    "                )  # apply log_softmax here to the logits as the loss function expects log probabilities\n",
    "\n",
    "                loss = loss_function(predicted_log_probabilites, labels)\n",
    "\n",
    "                loss.backward()\n",
    "                optimizer.step()\n",
    "\n",
    "                if batch_index % 100 == 0:\n",
    "                    batch_info[\"Loss\"] = f\"{loss.item(): .3f}\"\n",
    "                    batch_info[\"Learning Rate\"] = (\n",
    "                        f\"{lr_scheduler.get_last_lr()[-1]: .4f}\"\n",
    "                    )\n",
    "                    batches.set_postfix(batch_info)\n",
    "\n",
    "                train_batch_loss.append(loss.item())\n",
    "\n",
    "                # Clear memory for batch data\n",
    "                del inputs, labels, predicted_log_probabilites\n",
    "                torch.mps.empty_cache()\n",
    "\n",
    "            train_epoch_loss.append(torch.tensor(train_batch_loss).mean().item())\n",
    "            train_learning_rate.append(lr_scheduler.get_last_lr()[-1])\n",
    "\n",
    "            batch_info[\"Loss\"] = f\"{train_epoch_loss[-1]: .3f}\"\n",
    "            batch_info[\"Perplexity\"] = (\n",
    "                f\"{calculate_perplexity(model.v, dataset=validation_set, batch_size=3000, model=model)}\"\n",
    "            )\n",
    "            batches.write(str(batch_info), end=\"\\n\\n\")\n",
    "\n",
    "            lr_scheduler.step()\n",
    "\n",
    "    return train_batch_loss, train_epoch_loss, train_learning_rate\n"
   ]
  },
  {
   "cell_type": "code",
   "execution_count": 820,
   "id": "20522bce",
   "metadata": {},
   "outputs": [],
   "source": [
    "from matplotlib import pyplot as plt\n",
    "\n",
    "\n",
    "def plot_training_data(train_batch_loss, train_epoch_loss, train_learning_rate):\n",
    "    fig, axs = plt.subplots(1, 3)\n",
    "\n",
    "    axs[0].plot(range(len(train_batch_loss)), train_batch_loss)\n",
    "    axs[0].set_title(\"Batch Loss\")\n",
    "\n",
    "    axs[1].plot(range(len(train_epoch_loss)), train_epoch_loss)\n",
    "    axs[1].set_title(\"Epoch Loss\")\n",
    "\n",
    "    axs[2].plot(range(len(train_learning_rate)), train_learning_rate)\n",
    "    axs[2].set_title(\"Learning Rate\")\n",
    "\n",
    "    fig.set_figwidth(20)\n",
    "    fig.set_figheight(5)\n",
    "\n",
    "    plt.tight_layout()\n",
    "    plt.show()"
   ]
  },
  {
   "cell_type": "markdown",
   "id": "8e440334",
   "metadata": {},
   "source": [
    "Let's call the training and plotting functions here."
   ]
  },
  {
   "cell_type": "code",
   "execution_count": 821,
   "id": "0698bcfd",
   "metadata": {},
   "outputs": [
    {
     "name": "stderr",
     "output_type": "stream",
     "text": [
      "Training: 100%|██████████| 100000/100000 [08:26<00:00, 197.29Batch/s, Loss=6.058, Learning Rate=0.0250]\n"
     ]
    },
    {
     "name": "stdout",
     "output_type": "stream",
     "text": [
      "{'Loss': ' 6.313', 'Learning Rate': ' 0.0250', 'Perplexity': '451.07620268850366'}\n",
      "\n"
     ]
    },
    {
     "name": "stderr",
     "output_type": "stream",
     "text": [
      "Training: 100%|██████████| 100000/100000 [08:27<00:00, 197.11Batch/s, Loss=7.010, Learning Rate=0.0250]\n"
     ]
    },
    {
     "name": "stdout",
     "output_type": "stream",
     "text": [
      "{'Loss': ' 6.157', 'Learning Rate': ' 0.0250', 'Perplexity': '405.499629933583'}\n",
      "\n"
     ]
    },
    {
     "name": "stderr",
     "output_type": "stream",
     "text": [
      "Training: 100%|██████████| 100000/100000 [08:49<00:00, 188.77Batch/s, Loss=6.094, Learning Rate=0.0250]\n"
     ]
    },
    {
     "name": "stdout",
     "output_type": "stream",
     "text": [
      "{'Loss': ' 6.069', 'Learning Rate': ' 0.0250', 'Perplexity': '376.64498026948144'}\n",
      "\n"
     ]
    },
    {
     "name": "stderr",
     "output_type": "stream",
     "text": [
      "Training: 100%|██████████| 100000/100000 [08:48<00:00, 189.04Batch/s, Loss=5.455, Learning Rate=0.0250]\n"
     ]
    },
    {
     "name": "stdout",
     "output_type": "stream",
     "text": [
      "{'Loss': ' 6.006', 'Learning Rate': ' 0.0250', 'Perplexity': '361.542775112664'}\n",
      "\n"
     ]
    },
    {
     "name": "stderr",
     "output_type": "stream",
     "text": [
      "Training: 100%|██████████| 100000/100000 [08:48<00:00, 189.26Batch/s, Loss=4.113, Learning Rate=0.0250]\n"
     ]
    },
    {
     "name": "stdout",
     "output_type": "stream",
     "text": [
      "{'Loss': ' 5.957', 'Learning Rate': ' 0.0250', 'Perplexity': '346.1729095008697'}\n",
      "\n"
     ]
    },
    {
     "name": "stderr",
     "output_type": "stream",
     "text": [
      "Training: 100%|██████████| 100000/100000 [08:48<00:00, 189.09Batch/s, Loss=5.885, Learning Rate=0.0250]\n"
     ]
    },
    {
     "name": "stdout",
     "output_type": "stream",
     "text": [
      "{'Loss': ' 5.916', 'Learning Rate': ' 0.0250', 'Perplexity': '334.5345020968544'}\n",
      "\n"
     ]
    },
    {
     "name": "stderr",
     "output_type": "stream",
     "text": [
      "Training: 100%|██████████| 100000/100000 [08:44<00:00, 190.78Batch/s, Loss=6.213, Learning Rate=0.0250]\n"
     ]
    },
    {
     "name": "stdout",
     "output_type": "stream",
     "text": [
      "{'Loss': ' 5.880', 'Learning Rate': ' 0.0250', 'Perplexity': '324.1969372347557'}\n",
      "\n"
     ]
    },
    {
     "name": "stderr",
     "output_type": "stream",
     "text": [
      "Training: 100%|██████████| 100000/100000 [08:47<00:00, 189.54Batch/s, Loss=7.743, Learning Rate=0.0250]\n"
     ]
    },
    {
     "name": "stdout",
     "output_type": "stream",
     "text": [
      "{'Loss': ' 5.847', 'Learning Rate': ' 0.0250', 'Perplexity': '309.0963881642434'}\n",
      "\n"
     ]
    },
    {
     "name": "stderr",
     "output_type": "stream",
     "text": [
      "Training: 100%|██████████| 100000/100000 [08:42<00:00, 191.44Batch/s, Loss=6.730, Learning Rate=0.0250]\n"
     ]
    },
    {
     "name": "stdout",
     "output_type": "stream",
     "text": [
      "{'Loss': ' 5.818', 'Learning Rate': ' 0.0250', 'Perplexity': '306.58966091804234'}\n",
      "\n"
     ]
    },
    {
     "name": "stderr",
     "output_type": "stream",
     "text": [
      "Training: 100%|██████████| 100000/100000 [08:41<00:00, 191.73Batch/s, Loss=5.324, Learning Rate=0.0250]\n"
     ]
    },
    {
     "name": "stdout",
     "output_type": "stream",
     "text": [
      "{'Loss': ' 5.791', 'Learning Rate': ' 0.0250', 'Perplexity': '296.4122525539173'}\n",
      "\n"
     ]
    },
    {
     "name": "stderr",
     "output_type": "stream",
     "text": [
      "Training: 100%|██████████| 100000/100000 [08:41<00:00, 191.65Batch/s, Loss=4.714, Learning Rate=0.0250]\n"
     ]
    },
    {
     "name": "stdout",
     "output_type": "stream",
     "text": [
      "{'Loss': ' 5.766', 'Learning Rate': ' 0.0250', 'Perplexity': '290.94869429401547'}\n",
      "\n"
     ]
    },
    {
     "name": "stderr",
     "output_type": "stream",
     "text": [
      "Training: 100%|██████████| 100000/100000 [08:41<00:00, 191.63Batch/s, Loss=6.529, Learning Rate=0.0250]\n"
     ]
    },
    {
     "name": "stdout",
     "output_type": "stream",
     "text": [
      "{'Loss': ' 5.743', 'Learning Rate': ' 0.0250', 'Perplexity': '286.00238400998967'}\n",
      "\n"
     ]
    },
    {
     "data": {
      "image/png": "[encoded data removed]",
      "text/plain": [
       "<Figure size 2000x500 with 3 Axes>"
      ]
     },
     "metadata": {},
     "output_type": "display_data"
    }
   ],
   "source": [
    "train_batch_loss, train_epoch_loss, train_learning_rate = train(\n",
    "    dataset=train_set,\n",
    "    batch_size=8,\n",
    "    epochs=12,\n",
    "    model=nlm,\n",
    "    validation_set=validation_set,\n",
    ")\n",
    "plot_training_data(train_batch_loss, train_epoch_loss, train_learning_rate)"
   ]
  },
  {
   "cell_type": "markdown",
   "id": "da3c049f",
   "metadata": {},
   "source": [
    "## Evaluation"
   ]
  },
  {
   "cell_type": "code",
   "execution_count": 822,
   "id": "9efb6153",
   "metadata": {},
   "outputs": [
    {
     "data": {
      "text/plain": [
       "tensor(266.6692, dtype=torch.float64)"
      ]
     },
     "execution_count": 822,
     "metadata": {},
     "output_type": "execute_result"
    }
   ],
   "source": [
    "calculate_perplexity(\n",
    "    vocab_length=dataset.vocab_length, dataset=test_set, batch_size=3000, model=nlm\n",
    ")"
   ]
  },
  {
   "cell_type": "markdown",
   "id": "41fd90bd",
   "metadata": {},
   "source": [
    "Let's see how close are the embeddings of things we would expect to be similar now. "
   ]
  },
  {
   "cell_type": "code",
   "execution_count": 837,
   "id": "110e5148",
   "metadata": {},
   "outputs": [
    {
     "data": {
      "text/plain": [
       "torch.Size([3, 30])"
      ]
     },
     "execution_count": 837,
     "metadata": {},
     "output_type": "execute_result"
    }
   ],
   "source": [
    "cat_token = dataset.word_to_token[\"cat\"]\n",
    "dog_token = dataset.word_to_token[\"dog\"]\n",
    "car_token = dataset.word_to_token[\"ball\"]\n",
    "with torch.no_grad():\n",
    "    nlm.eval()\n",
    "    embeddings = nlm.c(torch.tensor([cat_token, dog_token, car_token]).to(device))\n",
    "    nlm.train()\n",
    "embeddings.shape"
   ]
  },
  {
   "cell_type": "code",
   "execution_count": 838,
   "id": "09d9ecdb",
   "metadata": {},
   "outputs": [
    {
     "data": {
      "text/plain": [
       "tensor(0.2351, device='mps:0')"
      ]
     },
     "execution_count": 838,
     "metadata": {},
     "output_type": "execute_result"
    }
   ],
   "source": [
    "torch.cosine_similarity(embeddings[0], embeddings[1], dim=-1)  # Cat and Dog"
   ]
  },
  {
   "cell_type": "code",
   "execution_count": null,
   "id": "a26441ea",
   "metadata": {},
   "outputs": [
    {
     "data": {
      "text/plain": [
       "tensor(0.1916, device='mps:0')"
      ]
     },
     "execution_count": 839,
     "metadata": {},
     "output_type": "execute_result"
    }
   ],
   "source": [
    "torch.cosine_similarity(embeddings[1], embeddings[2], dim=-1)  # Dog and Ball"
   ]
  },
  {
   "cell_type": "code",
   "execution_count": null,
   "id": "303d7196",
   "metadata": {},
   "outputs": [
    {
     "data": {
      "text/plain": [
       "tensor(0.0362, device='mps:0')"
      ]
     },
     "execution_count": 840,
     "metadata": {},
     "output_type": "execute_result"
    }
   ],
   "source": [
    "torch.cosine_similarity(embeddings[0], embeddings[2], dim=-1)  # Cat and Ball"
   ]
  },
  {
   "cell_type": "code",
   "execution_count": 827,
   "id": "8482fbe3",
   "metadata": {},
   "outputs": [],
   "source": [
    "import random\n",
    "\n",
    "\n",
    "def generate_sentence(model, dataset, sentence: str = \"\"):\n",
    "    context_size = model.n - 1\n",
    "    if sentence:\n",
    "        tokens: list[int] = dataset.tokenize(sentence.lower().split(\" \")[-model.n :])\n",
    "    else:\n",
    "        tokens = [model.padding_idx for _ in range(model.n - 1)]\n",
    "        tokens.append(random.randint(0, dataset.vocab_length))\n",
    "\n",
    "    tokens = torch.tensor(tokens[-context_size:])\n",
    "    while True:\n",
    "        with torch.no_grad():\n",
    "            model.zero_grad()\n",
    "\n",
    "            next_tokens = model(tokens[-context_size:].to(device))\n",
    "            next_token = next_tokens.softmax(-1).argmax().cpu()\n",
    "\n",
    "        tokens = torch.cat([tokens, torch.tensor([next_token])])\n",
    "        print(tokens[-context_size:])\n",
    "        # print(\" \".join([dataset.decode(token)[0] for token in tokens]), end=\"\\r\")\n",
    "        if dataset.decode(next_token) == \"<unk>\" or dataset.decode(next_token) == \".\":\n",
    "            break\n",
    "\n",
    "    return \" \".join([dataset.decode(token)[0] for token in tokens])"
   ]
  },
  {
   "cell_type": "code",
   "execution_count": 828,
   "id": "fcb3f6e9",
   "metadata": {},
   "outputs": [],
   "source": [
    "# generate_sentence(nlm, dataset)"
   ]
  },
  {
   "cell_type": "code",
   "execution_count": 829,
   "id": "2d8ed84c",
   "metadata": {},
   "outputs": [],
   "source": [
    "input = \"really love when the\".lower().split(\" \")\n",
    "\n",
    "with torch.no_grad():\n",
    "    nlm.zero_grad()\n",
    "    next_token = nlm(dataset.tokenize_text(input).to(device))\n",
    "    best = next_token.softmax(-1)"
   ]
  },
  {
   "cell_type": "code",
   "execution_count": 830,
   "id": "cff1c741",
   "metadata": {},
   "outputs": [
    {
     "data": {
      "text/plain": [
       "['<unk>']"
      ]
     },
     "execution_count": 830,
     "metadata": {},
     "output_type": "execute_result"
    }
   ],
   "source": [
    "dataset.decode(best.argmax().cpu())"
   ]
  },
  {
   "cell_type": "code",
   "execution_count": 831,
   "id": "beeb6b06",
   "metadata": {},
   "outputs": [],
   "source": [
    "# import gc\n",
    "\n",
    "# gc.collect()\n",
    "# torch.mps.empty_cache()"
   ]
  }
 ],
 "metadata": {
  "kernelspec": {
   "display_name": "base",
   "language": "python",
   "name": "python3"
  },
  "language_info": {
   "codemirror_mode": {
    "name": "ipython",
    "version": 3
   },
   "file_extension": ".py",
   "mimetype": "text/x-python",
   "name": "python",
   "nbconvert_exporter": "python",
   "pygments_lexer": "ipython3",
   "version": "3.12.8"
  }
 },
 "nbformat": 4,
 "nbformat_minor": 5
}
